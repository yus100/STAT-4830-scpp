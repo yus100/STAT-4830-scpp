{
 "cells": [
  {
   "cell_type": "code",
   "execution_count": 18,
   "metadata": {},
   "outputs": [
    {
     "name": "stdout",
     "output_type": "stream",
     "text": [
      "The autoreload extension is already loaded. To reload it, use:\n",
      "  %reload_ext autoreload\n"
     ]
    }
   ],
   "source": [
    "%load_ext autoreload\n",
    "%autoreload 2"
   ]
  },
  {
   "cell_type": "code",
   "execution_count": 19,
   "metadata": {},
   "outputs": [],
   "source": [
    "import sys\n",
    "import os\n",
    "\n",
    "# Get the parent directory of the current notebook\n",
    "notebook_dir = os.getcwd()  # Use current working directory instead of __file__\n",
    "parent_dir = os.path.dirname(notebook_dir)\n",
    "\n",
    "# Add `src` to sys.path\n",
    "sys.path.append(os.path.join(parent_dir, \"src\"))"
   ]
  },
  {
   "cell_type": "code",
   "execution_count": 20,
   "metadata": {},
   "outputs": [],
   "source": [
    "from tests.loader import Loader\n",
    "game1 = Loader(\"game1\")\n",
    "rules = game1.getRules()"
   ]
  },
  {
   "cell_type": "code",
   "execution_count": 21,
   "metadata": {},
   "outputs": [],
   "source": [
    "from MAGS import MAGS"
   ]
  },
  {
   "cell_type": "code",
   "execution_count": 22,
   "metadata": {},
   "outputs": [],
   "source": [
    "mags = MAGS()"
   ]
  },
  {
   "cell_type": "code",
   "execution_count": 23,
   "metadata": {},
   "outputs": [
    {
     "name": "stdout",
     "output_type": "stream",
     "text": [
      "9\n"
     ]
    }
   ],
   "source": [
    "# split rules by double newlines\n",
    "rules_split = rules.split(\"\\n\\n\")\n",
    "print(len(rules_split))"
   ]
  },
  {
   "cell_type": "code",
   "execution_count": 24,
   "metadata": {},
   "outputs": [],
   "source": [
    "for index, document in enumerate(rules_split):\n",
    "    await mags.add_text_to_LTM_Semantic([document])"
   ]
  },
  {
   "cell_type": "code",
   "execution_count": 25,
   "metadata": {},
   "outputs": [
    {
     "name": "stdout",
     "output_type": "stream",
     "text": [
      "9\n"
     ]
    }
   ],
   "source": [
    "print(len(mags.long_term_memory.nodes))"
   ]
  },
  {
   "cell_type": "code",
   "execution_count": 26,
   "metadata": {},
   "outputs": [
    {
     "name": "stdout",
     "output_type": "stream",
     "text": [
      "{\n",
      "   \"original\": \"Give me a high level overview of the game\",\n",
      "   \"rephrased\": [\n",
      "     \"Game summary\",\n",
      "     \"Overview of gameplay mechanics\",\n",
      "     \"Top-level description of the game\"\n",
      "   ]\n",
      "}\n",
      "You are an expert at answering questions for a user. You have a content-retrieval system memory that can be used to answer questions. In the previous step you used\n",
      "this memory to recall the following bits of information. Using this information, any past messages, your knowledge, and the user's question, answer the user's question.\n",
      "as best as you can.\n",
      "\n",
      "If the user gives you new information, you may add it to your memory. Be careful when adding new memory, \n",
      "since you may exceed memory limits. This memory SHOULD NOT be chat history, but rather new information\n",
      "about the game or 'breakthroughs' you had that you did not know about before. Be stingy with your new memory.\n",
      "It is completely ok and expected in most cases to add 0 (zero) new memory. For example,\n",
      "add information about changes to the rules or structure, but not how a player performed\n",
      "in a game.\n",
      "\n",
      "Add only necessary and relevant information. Make sure it is not already included in memory\n",
      "(as given below in your prompt). Each new item should be unique and seperable, as each new item represents a 'neuron' memory\n",
      "block in your memory, and will be connected to the full network. \n",
      "\n",
      "You have access to the following information:\n",
      "Document 0: \n",
      "Game Name: Paradox Dice Arena\n",
      "Document 1: Game Setup:\n",
      "1. Each player starts with 50 Paradox Points (PP).\n",
      "2. The game uses three types of dice:\n",
      "   - A Blue D6 (B6) – Standard six-sided die\n",
      "   - A Red D10 (R10) – Ten-sided die\n",
      "   - A Green D4 (G4) – Four-sided die\n",
      "3. Each player gets a Meta-Tally Sheet (MTS) to track PP and transformations.\n",
      "4. A player is assigned a Random Echo Number (REN) at the start of the game. \n",
      "   This is the sum of two randomly rolled dice (one B6 and one G4). The REN is used in special conditions.\n",
      "Document 2: Winning Conditions:\n",
      "- The first player to reach exactly 100 PP without exceeding it wins the game.\n",
      "- If multiple players reach exactly 100 in the same round, the player who applied their REN the most times correctly is the winner.\n",
      "- If no one reaches 100 within 15 rounds, the player closest to 100 wins.\n",
      "\n",
      "\n",
      "\n",
      "The user's question is:\n",
      "Give me a high level overview of the game\n",
      "\n",
      "Output your answer in the following format\n",
      "{\n",
      "    \"answer\": {\n",
      "        \"question_response\": \"string\",\n",
      "        \"new_memory\": {\n",
      "            \"count\": integer,\n",
      "            \"new_items\": [\"string\"...]\n",
      "        }\n",
      "    }\n",
      "}\n",
      "\n",
      "{\n",
      "    \"answer\": {\n",
      "        \"question_response\": \"Paradox Dice Arena is a game where players start with 50 Paradox Points (PP) and aim to reach exactly 100 PP without exceeding it. Players roll different types of dice to earn points, and the first player to achieve this wins. The game has special conditions like the Random Echo Number (REN), which affects certain scenarios.\",\n",
      "        \"new_memory\": {\n",
      "            \"count\": 0,\n",
      "            \"new_items\": []\n",
      "        }\n",
      "    }\n",
      "}\n",
      "Paradox Dice Arena is a game where players start with 50 Paradox Points (PP) and aim to reach exactly 100 PP without exceeding it. Players roll different types of dice to earn points, and the first player to achieve this wins. The game has special conditions like the Random Echo Number (REN), which affects certain scenarios.\n"
     ]
    }
   ],
   "source": [
    "print(await mags.query(\"Give me a high level overview of the game\"))"
   ]
  },
  {
   "cell_type": "code",
   "execution_count": 28,
   "metadata": {},
   "outputs": [
    {
     "name": "stdout",
     "output_type": "stream",
     "text": [
      "{\"original\": \"The Blue D6 Dice (B6) now only has 1 side with the number 1\", \"rephrased\": [\"A single-sided die labeled '1'\", \"A B6 die with only one face showing the number 1\", \"What is a modified version of the Blue D6 Dice with only one numbered side\"]}\n",
      "You are an expert at answering questions for a user. You have a content-retrieval system memory that can be used to answer questions. In the previous step you used\n",
      "this memory to recall the following bits of information. Using this information, any past messages, your knowledge, and the user's question, answer the user's question.\n",
      "as best as you can.\n",
      "\n",
      "If the user gives you new information, you may add it to your memory. Be careful when adding new memory, \n",
      "since you may exceed memory limits. This memory SHOULD NOT be chat history, but rather new information\n",
      "about the game or 'breakthroughs' you had that you did not know about before. Be stingy with your new memory.\n",
      "It is completely ok and expected in most cases to add 0 (zero) new memory. For example,\n",
      "add information about changes to the rules or structure, but not how a player performed\n",
      "in a game.\n",
      "\n",
      "Add only necessary and relevant information. Make sure it is not already included in memory\n",
      "(as given below in your prompt). Each new item should be unique and seperable, as each new item represents a 'neuron' memory\n",
      "block in your memory, and will be connected to the full network. \n",
      "\n",
      "You have access to the following information:\n",
      "Document 0: Game Setup:\n",
      "1. Each player starts with 50 Paradox Points (PP).\n",
      "2. The game uses three types of dice:\n",
      "   - A Blue D6 (B6) – Standard six-sided die\n",
      "   - A Red D10 (R10) – Ten-sided die\n",
      "   - A Green D4 (G4) – Four-sided die\n",
      "3. Each player gets a Meta-Tally Sheet (MTS) to track PP and transformations.\n",
      "4. A player is assigned a Random Echo Number (REN) at the start of the game. \n",
      "   This is the sum of two randomly rolled dice (one B6 and one G4). The REN is used in special conditions.\n",
      "Document 1: 1. Echo Roll Phase:\n",
      "   - Players roll one of each die (B6, R10, G4) and record results.\n",
      "   - If any die rolls a prime number, the player must add their REN to that die’s value before proceeding.\n",
      "   - If any die rolls a perfect square, the player must divide it by 2 (rounded down).\n",
      "   \n",
      "2. Flux Conversion Phase:\n",
      "   - If any two dice show the same number, the player must swap them (e.g., if B6 and R10 both roll a 4, they exchange values).\n",
      "   - If a player rolls three consecutive numbers across the dice (e.g., 3, 4, 5), they gain 7 PP but lose the ability to roll G4 next turn.\n",
      "   - If a player rolls a 1 on R10, they must immediately re-roll B6 and apply the square root of the new value to their PP gain this turn.\n",
      "Document 2: \n",
      "Game Name: Paradox Dice Arena\n",
      "\n",
      "\n",
      "The user's question is:\n",
      "The Blue D6 Dice (B6) now only has 1 side with the number 1. Update your memory.\n",
      "\n",
      "Output your answer in the following format\n",
      "{\n",
      "    \"answer\": {\n",
      "        \"question_response\": \"string\",\n",
      "        \"new_memory\": {\n",
      "            \"count\": integer,\n",
      "            \"new_items\": [\"string\"...]\n",
      "        }\n",
      "    }\n",
      "}\n",
      "\n",
      "{\n",
      "    \"answer\": {\n",
      "        \"question_response\": \"The Blue D6 Dice (B6) has been modified to only have 1 side with the number 1.\",\n",
      "        \"new_memory\": {\n",
      "            \"count\": 1,\n",
      "            \"new_items\": [\"Blue D6 now has only 1 side with the number 1\"]\n",
      "        }\n",
      "    }\n",
      "}\n",
      "ADDED 1 NEW MEMORIES\n",
      "The Blue D6 Dice (B6) has been modified to only have 1 side with the number 1.\n"
     ]
    }
   ],
   "source": [
    "print(await mags.query(\"The Blue D6 Dice (B6) now only has 1 side with the number 1. Update your memory.\"))"
   ]
  },
  {
   "cell_type": "code",
   "execution_count": 29,
   "metadata": {},
   "outputs": [
    {
     "name": "stdout",
     "output_type": "stream",
     "text": [
      "10\n"
     ]
    }
   ],
   "source": [
    "print(len(mags.long_term_memory.nodes))"
   ]
  },
  {
   "cell_type": "code",
   "execution_count": 30,
   "metadata": {},
   "outputs": [
    {
     "name": "stdout",
     "output_type": "stream",
     "text": [
      "{\n",
      "    \"original\": \"How many ideas does the Blue D6 Dice (B6) have?\",\n",
      "    \"rephrased\": [\n",
      "        \"What are the concepts or themes associated with a Blue D6 Dice (B6)?\",\n",
      "        \"Can you retrieve information about the characteristics of a Blue D6 Dice (B6)?\",\n",
      "        \"What keywords or tags might be used to describe a Blue D6 Dice (B6) in a data set?\"\n",
      "    ]\n",
      "}\n",
      "You are an expert at answering questions for a user. You have a content-retrieval system memory that can be used to answer questions. In the previous step you used\n",
      "this memory to recall the following bits of information. Using this information, any past messages, your knowledge, and the user's question, answer the user's question.\n",
      "as best as you can.\n",
      "\n",
      "If the user gives you new information, you may add it to your memory. Be careful when adding new memory, \n",
      "since you may exceed memory limits. This memory SHOULD NOT be chat history, but rather new information\n",
      "about the game or 'breakthroughs' you had that you did not know about before. Be stingy with your new memory.\n",
      "It is completely ok and expected in most cases to add 0 (zero) new memory. For example,\n",
      "add information about changes to the rules or structure, but not how a player performed\n",
      "in a game.\n",
      "\n",
      "Add only necessary and relevant information. Make sure it is not already included in memory\n",
      "(as given below in your prompt). Each new item should be unique and seperable, as each new item represents a 'neuron' memory\n",
      "block in your memory, and will be connected to the full network. \n",
      "\n",
      "You have access to the following information:\n",
      "Document 0: Blue D6 now has only 1 side with the number 1\n",
      "Document 1: Game Setup:\n",
      "1. Each player starts with 50 Paradox Points (PP).\n",
      "2. The game uses three types of dice:\n",
      "   - A Blue D6 (B6) – Standard six-sided die\n",
      "   - A Red D10 (R10) – Ten-sided die\n",
      "   - A Green D4 (G4) – Four-sided die\n",
      "3. Each player gets a Meta-Tally Sheet (MTS) to track PP and transformations.\n",
      "4. A player is assigned a Random Echo Number (REN) at the start of the game. \n",
      "   This is the sum of two randomly rolled dice (one B6 and one G4). The REN is used in special conditions.\n",
      "Document 2: 1. Echo Roll Phase:\n",
      "   - Players roll one of each die (B6, R10, G4) and record results.\n",
      "   - If any die rolls a prime number, the player must add their REN to that die’s value before proceeding.\n",
      "   - If any die rolls a perfect square, the player must divide it by 2 (rounded down).\n",
      "   \n",
      "2. Flux Conversion Phase:\n",
      "   - If any two dice show the same number, the player must swap them (e.g., if B6 and R10 both roll a 4, they exchange values).\n",
      "   - If a player rolls three consecutive numbers across the dice (e.g., 3, 4, 5), they gain 7 PP but lose the ability to roll G4 next turn.\n",
      "   - If a player rolls a 1 on R10, they must immediately re-roll B6 and apply the square root of the new value to their PP gain this turn.\n",
      "\n",
      "\n",
      "The user's question is:\n",
      "How many ides does the Blue D6 Dice (B6) have?\n",
      "\n",
      "Output your answer in the following format\n",
      "{\n",
      "    \"answer\": {\n",
      "        \"question_response\": \"string\",\n",
      "        \"new_memory\": {\n",
      "            \"count\": integer,\n",
      "            \"new_items\": [\"string\"...]\n",
      "        }\n",
      "    }\n",
      "}\n",
      "\n",
      "{\n",
      "    \"answer\": {\n",
      "        \"question_response\": \"The Blue D6 has 1 side with the number 1.\",\n",
      "        \"new_memory\": {\n",
      "            \"count\": 0,\n",
      "            \"new_items\": []\n",
      "        }\n",
      "    }\n",
      "}\n",
      "The Blue D6 has 1 side with the number 1.\n"
     ]
    }
   ],
   "source": [
    "print(await mags.query(\"How many ides does the Blue D6 Dice (B6) have?\"))"
   ]
  },
  {
   "cell_type": "markdown",
   "metadata": {},
   "source": [
    "## Problem Statement and Implementation in ReadME.md\n",
    "\n",
    "## Validation\n",
    "Test cases above. Seems like the impelementation does work as intended,\n",
    "but the performance is not spectacular. A lot of the times the model\n",
    "will output invalid JSON or not follow instructions properly. We may need to upgrade\n",
    "to a larger model or use instruct models to better follow this. We are still\n",
    "working on the RL algorithm due to issues with getting access and the math.\n",
    "\n",
    "During the infernece memory spiked, but I only allowed half my cores to be used, so it seems stable. When we use a GPU we likely need to better watch our resource allocaiton.\n",
    "\n",
    "We added error handling for any issues, but have not yet tested servere edge cases. We tested a few edge cases but overall it seems to not be too bad.\n",
    "\n",
    "## Next Steps\n",
    "\n",
    "We need to finish the RL algorithm / agent so that we don't have to use JSON and it is actually encouraged to use memory in the *right cases*. We also need to try to use a larger model. Finally, we need to be able to implement the full working graphs including consolidaiton, short term memory, edge decay, etc..."
   ]
  }
 ],
 "metadata": {
  "kernelspec": {
   "display_name": ".venv",
   "language": "python",
   "name": "python3"
  },
  "language_info": {
   "codemirror_mode": {
    "name": "ipython",
    "version": 3
   },
   "file_extension": ".py",
   "mimetype": "text/x-python",
   "name": "python",
   "nbconvert_exporter": "python",
   "pygments_lexer": "ipython3",
   "version": "3.11.9"
  }
 },
 "nbformat": 4,
 "nbformat_minor": 2
}
