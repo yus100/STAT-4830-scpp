{
 "cells": [
  {
   "cell_type": "markdown",
   "metadata": {},
   "source": [
    "## All the code is in the RL/ folder, with all the models and PPO code! We couldn't get it to run on Colab since it kept timing out, and we couldn't get the pacages to work with jupyter yet but hopefully it should work by next week. However, you can check out with the CLI with the prompts running locally in the PPO class and the Eval class!"
   ]
  }
 ],
 "metadata": {
  "language_info": {
   "name": "python"
  }
 },
 "nbformat": 4,
 "nbformat_minor": 2
}
